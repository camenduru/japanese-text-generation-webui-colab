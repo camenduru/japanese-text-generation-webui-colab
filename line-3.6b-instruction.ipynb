{
  "cells": [
    {
      "cell_type": "markdown",
      "metadata": {
        "id": "view-in-github"
      },
      "source": [
        "[![Open In Colab](https://colab.research.google.com/assets/colab-badge.svg)](https://colab.research.google.com/github/camenduru/japanese-text-generation-webui-colab/blob/main/line-3.6b-instruction.ipynb)"
      ]
    },
    {
      "cell_type": "code",
      "execution_count": null,
      "metadata": {
        "id": "VCFOzsQSHbjM"
      },
      "outputs": [],
      "source": [
        "%cd /content\n",
        "!apt-get -y install -qq aria2\n",
        "\n",
        "!git clone -b v2.1 https://github.com/camenduru/text-generation-webui\n",
        "%cd /content/text-generation-webui\n",
        "!pip install -r requirements.txt\n",
        "\n",
        "!aria2c --console-log-level=error -c -x 16 -s 16 -k 1M https://huggingface.co/line-corporation/japanese-large-lm-3.6b-instruction-sft/raw/main/config.json -d /content/text-generation-webui/models/japanese-large-lm-3.6b-instruction-sft -o config.json\n",
        "!aria2c --console-log-level=error -c -x 16 -s 16 -k 1M https://huggingface.co/line-corporation/japanese-large-lm-3.6b-instruction-sft/resolve/main/pytorch_model.bin -d /content/text-generation-webui/models/japanese-large-lm-3.6b-instruction-sft -o pytorch_model.bin\n",
        "!aria2c --console-log-level=error -c -x 16 -s 16 -k 1M https://huggingface.co/line-corporation/japanese-large-lm-3.6b-instruction-sft/raw/main/special_tokens_map.json -d /content/text-generation-webui/models/japanese-large-lm-3.6b-instruction-sft -o special_tokens_map.json\n",
        "!aria2c --console-log-level=error -c -x 16 -s 16 -k 1M https://huggingface.co/line-corporation/japanese-large-lm-3.6b-instruction-sft/resolve/main/spiece.model -d /content/text-generation-webui/models/japanese-large-lm-3.6b-instruction-sft -o spiece.model\n",
        "!aria2c --console-log-level=error -c -x 16 -s 16 -k 1M https://huggingface.co/line-corporation/japanese-large-lm-3.6b-instruction-sft/raw/main/tokenizer_config.json -d /content/text-generation-webui/models/japanese-large-lm-3.6b-instruction-sft -o tokenizer_config.json\n",
        "# !aria2c --console-log-level=error -c -x 16 -s 16 -k 1M https://huggingface.co/4bit/japanese-stablelm-instruct-alpha-7b/raw/main/special_tokens_map.json -d /content/text-generation-webui/models/japanese-stablelm-instruct-alpha-7b -o special_tokens_map.json\n",
        "# !aria2c --console-log-level=error -c -x 16 -s 16 -k 1M https://huggingface.co/4bit/japanese-stablelm-instruct-alpha-7b/resolve/main/pytorch_model.fp16-00001-of-00002.bin -d /content/text-generation-webui/models/japanese-stablelm-instruct-alpha-7b -o pytorch_model.fp16-00001-of-00002.bin\n",
        "# !aria2c --console-log-level=error -c -x 16 -s 16 -k 1M https://huggingface.co/4bit/japanese-stablelm-instruct-alpha-7b/resolve/main/pytorch_model.fp16-00002-of-00002.bin -d /content/text-generation-webui/models/japanese-stablelm-instruct-alpha-7b -o pytorch_model.fp16-00002-of-00002.bin\n",
        "\n",
        "%cd /content/text-generation-webui\n",
        "!python server.py --share --model /content/text-generation-webui/models/japanese-large-lm-3.6b-instruction-sft"
      ]
    }
  ],
  "metadata": {
    "accelerator": "GPU",
    "colab": {
      "provenance": []
    },
    "gpuClass": "standard",
    "kernelspec": {
      "display_name": "Python 3",
      "name": "python3"
    },
    "language_info": {
      "name": "python"
    }
  },
  "nbformat": 4,
  "nbformat_minor": 0
}
