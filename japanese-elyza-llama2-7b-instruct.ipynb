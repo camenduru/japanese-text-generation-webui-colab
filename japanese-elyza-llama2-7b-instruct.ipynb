{
  "cells": [
    {
      "cell_type": "markdown",
      "metadata": {
        "id": "view-in-github"
      },
      "source": [
        "[![Open In Colab](https://colab.research.google.com/assets/colab-badge.svg)](https://colab.research.google.com/github/camenduru/japanese-text-generation-webui-colab/blob/main/japanese-elyza-llama2-7b-instruct.ipynb)"
      ]
    },
    {
      "cell_type": "code",
      "execution_count": null,
      "metadata": {
        "id": "VCFOzsQSHbjM"
      },
      "outputs": [],
      "source": [
        "%cd /content\n",
        "!apt-get -y install -qq aria2\n",
        "!pip install -q xformers==0.0.20 triton==2.0.0 -U\n",
        "!git clone -b v2.4 https://github.com/camenduru/text-generation-webui\n",
        "%cd /content/text-generation-webui\n",
        "!pip install -q -r requirements.txt\n",
        "\n",
        "!aria2c --console-log-level=error -c -x 16 -s 16 -k 1M https://huggingface.co/4bit/ELYZA-japanese-Llama-2-7b-instruct/raw/main/config.json -d /content/text-generation-webui/models/ELYZA-japanese-Llama-2-7b-instruct -o config.json\n",
        "!aria2c --console-log-level=error -c -x 16 -s 16 -k 1M https://huggingface.co/4bit/ELYZA-japanese-Llama-2-7b-instruct/raw/main/generation_config.json -d /content/text-generation-webui/models/ELYZA-japanese-Llama-2-7b-instruct -o generation_config.json\n",
        "!aria2c --console-log-level=error -c -x 16 -s 16 -k 1M https://huggingface.co/4bit/ELYZA-japanese-Llama-2-7b-instruct/resolve/main/model-00001-of-00002.safetensors -d /content/text-generation-webui/models/ELYZA-japanese-Llama-2-7b-instruct -o model-00001-of-00002.safetensors\n",
        "!aria2c --console-log-level=error -c -x 16 -s 16 -k 1M https://huggingface.co/4bit/ELYZA-japanese-Llama-2-7b-instruct/resolve/main/model-00002-of-00002.safetensors -d /content/text-generation-webui/models/ELYZA-japanese-Llama-2-7b-instruct -o model-00002-of-00002.safetensors\n",
        "!aria2c --console-log-level=error -c -x 16 -s 16 -k 1M https://huggingface.co/4bit/ELYZA-japanese-Llama-2-7b-instruct/raw/main/model.safetensors.index.json -d /content/text-generation-webui/models/ELYZA-japanese-Llama-2-7b-instruct -o model.safetensors.index.json\n",
        "!aria2c --console-log-level=error -c -x 16 -s 16 -k 1M https://huggingface.co/4bit/ELYZA-japanese-Llama-2-7b-instruct/raw/main/special_tokens_map.json -d /content/text-generation-webui/models/ELYZA-japanese-Llama-2-7b-instruct -o special_tokens_map.json\n",
        "!aria2c --console-log-level=error -c -x 16 -s 16 -k 1M https://huggingface.co/4bit/ELYZA-japanese-Llama-2-7b-instruct/raw/main/tokenizer.json -d /content/text-generation-webui/models/ELYZA-japanese-Llama-2-7b-instruct -o tokenizer.json\n",
        "!aria2c --console-log-level=error -c -x 16 -s 16 -k 1M https://huggingface.co/4bit/ELYZA-japanese-Llama-2-7b-instruct/resolve/main/tokenizer.model -d /content/text-generation-webui/models/ELYZA-japanese-Llama-2-7b-instruct -o tokenizer.model\n",
        "!aria2c --console-log-level=error -c -x 16 -s 16 -k 1M https://huggingface.co/4bit/ELYZA-japanese-Llama-2-7b-instruct/raw/main/tokenizer_config.json -d /content/text-generation-webui/models/ELYZA-japanese-Llama-2-7b-instruct -o tokenizer_config.json\n",
        "\n",
        "!aria2c --console-log-level=error -c -x 16 -s 16 -k 1M https://github.com/camenduru/japanese-text-generation-webui-colab/raw/main/Assistant.png -d /content/text-generation-webui/characters -o Assistant.png\n",
        "!aria2c --console-log-level=error -c -x 16 -s 16 -k 1M https://github.com/camenduru/japanese-text-generation-webui-colab/raw/main/Assistant.yaml -d /content/text-generation-webui/characters -o Assistant.yaml\n",
        "\n",
        "!echo \"mode: 'instruct'\" > /content/text-generation-webui/models/config-user.yaml\n",
        "!echo \"instruction_template: 'Llama-v2'\" >> /content/text-generation-webui/models/config-user.yaml\n",
        "\n",
        "%cd /content/text-generation-webui\n",
        "!python server.py --share --xformers --load-in-8bit --character Assistant --model /content/text-generation-webui/models/ELYZA-japanese-Llama-2-7b-instruct"
      ]
    }
  ],
  "metadata": {
    "accelerator": "GPU",
    "colab": {
      "provenance": []
    },
    "gpuClass": "standard",
    "kernelspec": {
      "display_name": "Python 3",
      "name": "python3"
    },
    "language_info": {
      "name": "python"
    }
  },
  "nbformat": 4,
  "nbformat_minor": 0
}
