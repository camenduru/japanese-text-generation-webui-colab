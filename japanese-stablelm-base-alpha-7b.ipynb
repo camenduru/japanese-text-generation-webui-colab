{
  "cells": [
    {
      "cell_type": "markdown",
      "metadata": {
        "id": "view-in-github"
      },
      "source": [
        "[![Open In Colab](https://colab.research.google.com/assets/colab-badge.svg)](https://colab.research.google.com/github/camenduru/japanese-text-generation-webui-colab/blob/main/japanese-stablelm-base-alpha-7b.ipynb)"
      ]
    },
    {
      "cell_type": "code",
      "execution_count": null,
      "metadata": {
        "id": "VCFOzsQSHbjM"
      },
      "outputs": [],
      "source": [
        "%cd /content\n",
        "!apt-get -y install -qq aria2\n",
        "!pip install -q xformers==0.0.20 triton==2.0.0 -U\n",
        "!git clone -b v2.2-japanese https://github.com/camenduru/text-generation-webui\n",
        "%cd /content/text-generation-webui\n",
        "!pip install -q -r requirements.txt\n",
        "\n",
        "!aria2c --console-log-level=error -c -x 16 -s 16 -k 1M https://huggingface.co/4bit/japanese-stablelm-base-alpha-7b-s/raw/main/config.json -d /content/text-generation-webui/models/japanese-stablelm-base-alpha-7b-s -o config.json\n",
        "!aria2c --console-log-level=error -c -x 16 -s 16 -k 1M https://huggingface.co/4bit/japanese-stablelm-base-alpha-7b-s/raw/main/configuration_japanese_stablelm_alpha.py -d /content/text-generation-webui/models/japanese-stablelm-base-alpha-7b-s -o configuration_japanese_stablelm_alpha.py\n",
        "!aria2c --console-log-level=error -c -x 16 -s 16 -k 1M https://huggingface.co/4bit/japanese-stablelm-base-alpha-7b-s/raw/main/generation_config.json -d /content/text-generation-webui/models/japanese-stablelm-base-alpha-7b-s -o generation_config.json\n",
        "!aria2c --console-log-level=error -c -x 16 -s 16 -k 1M https://huggingface.co/4bit/japanese-stablelm-base-alpha-7b-s/resolve/main/model-00001-of-00002.safetensors -d /content/text-generation-webui/models/japanese-stablelm-base-alpha-7b-s -o model-00001-of-00002.safetensors\n",
        "!aria2c --console-log-level=error -c -x 16 -s 16 -k 1M https://huggingface.co/4bit/japanese-stablelm-base-alpha-7b-s/resolve/main/model-00002-of-00002.safetensors -d /content/text-generation-webui/models/japanese-stablelm-base-alpha-7b-s -o model-00002-of-00002.safetensors\n",
        "!aria2c --console-log-level=error -c -x 16 -s 16 -k 1M https://huggingface.co/4bit/japanese-stablelm-base-alpha-7b-s/raw/main/model.safetensors.index.json -d /content/text-generation-webui/models/japanese-stablelm-base-alpha-7b-s -o model.safetensors.index.json\n",
        "!aria2c --console-log-level=error -c -x 16 -s 16 -k 1M https://huggingface.co/4bit/japanese-stablelm-base-alpha-7b-s/raw/main/modeling_japanese_stablelm_alpha.py -d /content/text-generation-webui/models/japanese-stablelm-base-alpha-7b-s -o modeling_japanese_stablelm_alpha.py\n",
        "!aria2c --console-log-level=error -c -x 16 -s 16 -k 1M https://huggingface.co/4bit/japanese-stablelm-instruct-alpha-7b-s/resolve/main/tokenizer.model -d /content/text-generation-webui/models/japanese-stablelm-base-alpha-7b-s -o tokenizer.model\n",
        "!aria2c --console-log-level=error -c -x 16 -s 16 -k 1M https://huggingface.co/4bit/japanese-stablelm-instruct-alpha-7b-s/raw/main/tokenizer_config.json -d /content/text-generation-webui/models/japanese-stablelm-base-alpha-7b-s -o tokenizer_config.json\n",
        "\n",
        "!aria2c --console-log-level=error -c -x 16 -s 16 -k 1M https://github.com/camenduru/japanese-text-generation-webui-colab/raw/main/Assistant.png -d /content/text-generation-webui/characters -o Assistant.png\n",
        "!aria2c --console-log-level=error -c -x 16 -s 16 -k 1M https://github.com/camenduru/japanese-text-generation-webui-colab/raw/main/Assistant.yaml -d /content/text-generation-webui/characters -o Assistant.yaml\n",
        "\n",
        "%cd /content/text-generation-webui\n",
        "!python server.py --share --trust-remote-code --load-in-8bit --xformers --character Assistant --model /content/text-generation-webui/models/japanese-stablelm-base-alpha-7b-s"
      ]
    }
  ],
  "metadata": {
    "accelerator": "GPU",
    "colab": {
      "provenance": []
    },
    "gpuClass": "standard",
    "kernelspec": {
      "display_name": "Python 3",
      "name": "python3"
    },
    "language_info": {
      "name": "python"
    }
  },
  "nbformat": 4,
  "nbformat_minor": 0
}
