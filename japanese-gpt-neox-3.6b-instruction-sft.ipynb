{
  "cells": [
    {
      "cell_type": "markdown",
      "metadata": {
        "id": "view-in-github"
      },
      "source": [
        "[![Open In Colab](https://colab.research.google.com/assets/colab-badge.svg)](https://colab.research.google.com/github/camenduru/japanese-text-generation-webui-colab/blob/main/japanese-gpt-neox-3.6b-instruction-sft.ipynb)"
      ]
    },
    {
      "cell_type": "code",
      "execution_count": null,
      "metadata": {
        "id": "VCFOzsQSHbjM"
      },
      "outputs": [],
      "source": [
        "%cd /content\n",
        "!apt-get -y install -qq aria2\n",
        "\n",
        "!git clone -b v2.1 https://github.com/camenduru/text-generation-webui\n",
        "%cd /content/text-generation-webui\n",
        "!pip install -q -r requirements.txt\n",
        "\n",
        "!aria2c --console-log-level=error -c -x 16 -s 16 -k 1M https://huggingface.co/rinna/japanese-gpt-neox-3.6b-instruction-sft/raw/main/config.json -d /content/text-generation-webui/models/japanese-gpt-neox-3.6b-instruction-sft -o config.json\n",
        "!aria2c --console-log-level=error -c -x 16 -s 16 -k 1M https://huggingface.co/rinna/japanese-gpt-neox-3.6b-instruction-sft/resolve/main/pytorch_model.bin -d /content/text-generation-webui/models/japanese-gpt-neox-3.6b-instruction-sft -o pytorch_model.bin\n",
        "!aria2c --console-log-level=error -c -x 16 -s 16 -k 1M https://huggingface.co/rinna/japanese-gpt-neox-3.6b-instruction-sft/raw/main/spiece.vocab -d /content/text-generation-webui/models/japanese-gpt-neox-3.6b-instruction-sft -o spiece.vocab\n",
        "!aria2c --console-log-level=error -c -x 16 -s 16 -k 1M https://huggingface.co/rinna/japanese-gpt-neox-3.6b-instruction-sft/resolve/main/spiece.model -d /content/text-generation-webui/models/japanese-gpt-neox-3.6b-instruction-sft -o spiece.model\n",
        "!aria2c --console-log-level=error -c -x 16 -s 16 -k 1M https://huggingface.co/rinna/japanese-gpt-neox-3.6b-instruction-sft/raw/main/tokenizer_config.json -d /content/text-generation-webui/models/japanese-gpt-neox-3.6b-instruction-sft -o tokenizer_config.json\n",
        "\n",
        "%cd /content/text-generation-webui\n",
        "!python server.py --share --cpu-memory 12900 --model /content/text-generation-webui/models/japanese-gpt-neox-3.6b-instruction-sft"
      ]
    }
  ],
  "metadata": {
    "accelerator": "GPU",
    "colab": {
      "provenance": []
    },
    "gpuClass": "standard",
    "kernelspec": {
      "display_name": "Python 3",
      "name": "python3"
    },
    "language_info": {
      "name": "python"
    }
  },
  "nbformat": 4,
  "nbformat_minor": 0
}
