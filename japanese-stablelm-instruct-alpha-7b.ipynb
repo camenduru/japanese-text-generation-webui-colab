{
  "cells": [
    {
      "cell_type": "markdown",
      "metadata": {
        "id": "view-in-github"
      },
      "source": [
        "[![Open In Colab](https://colab.research.google.com/assets/colab-badge.svg)](https://colab.research.google.com/github/camenduru/japanese-text-generation-webui-colab/blob/main/japanese-stablelm-instruct-alpha-7b.ipynb)"
      ]
    },
    {
      "cell_type": "code",
      "execution_count": null,
      "metadata": {
        "id": "VCFOzsQSHbjM"
      },
      "outputs": [],
      "source": [
        "%cd /content\n",
        "!apt-get -y install -qq aria2\n",
        "\n",
        "!git clone -b v2.2-japanese https://github.com/camenduru/text-generation-webui\n",
        "%cd /content/text-generation-webui\n",
        "!pip install -r requirements.txt\n",
        "\n",
        "!aria2c --console-log-level=error -c -x 16 -s 16 -k 1M https://huggingface.co/4bit/japanese-stablelm-instruct-alpha-7b/raw/main/pytorch_model.bin.index.fp16.json -d /content/text-generation-webui/models/japanese-stablelm-instruct-alpha-7b -o pytorch_model.bin.index.json\n",
        "!aria2c --console-log-level=error -c -x 16 -s 16 -k 1M https://huggingface.co/4bit/japanese-stablelm-instruct-alpha-7b/raw/main/config.json -d /content/text-generation-webui/models/japanese-stablelm-instruct-alpha-7b -o config.json\n",
        "!aria2c --console-log-level=error -c -x 16 -s 16 -k 1M https://huggingface.co/4bit/japanese-stablelm-instruct-alpha-7b/raw/main/generation_config.json -d /content/text-generation-webui/models/japanese-stablelm-instruct-alpha-7b -o generation_config.json\n",
        "!aria2c --console-log-level=error -c -x 16 -s 16 -k 1M https://huggingface.co/4bit/japanese-stablelm-instruct-alpha-7b/resolve/main/tokenizer.model -d /content/text-generation-webui/models/japanese-stablelm-instruct-alpha-7b -o tokenizer.model\n",
        "!aria2c --console-log-level=error -c -x 16 -s 16 -k 1M https://huggingface.co/4bit/japanese-stablelm-instruct-alpha-7b/raw/main/tokenizer_config.json -d /content/text-generation-webui/models/japanese-stablelm-instruct-alpha-7b -o tokenizer_config.json\n",
        "!aria2c --console-log-level=error -c -x 16 -s 16 -k 1M https://huggingface.co/4bit/japanese-stablelm-instruct-alpha-7b/raw/main/special_tokens_map.json -d /content/text-generation-webui/models/japanese-stablelm-instruct-alpha-7b -o special_tokens_map.json\n",
        "!aria2c --console-log-level=error -c -x 16 -s 16 -k 1M https://huggingface.co/4bit/japanese-stablelm-instruct-alpha-7b/resolve/main/pytorch_model.fp16-00001-of-00002.bin -d /content/text-generation-webui/models/japanese-stablelm-instruct-alpha-7b -o pytorch_model-00001-of-00002.bin\n",
        "!aria2c --console-log-level=error -c -x 16 -s 16 -k 1M https://huggingface.co/4bit/japanese-stablelm-instruct-alpha-7b/resolve/main/pytorch_model.fp16-00002-of-00002.bin -d /content/text-generation-webui/models/japanese-stablelm-instruct-alpha-7b -o pytorch_model-00002-of-00002.bin\n",
        "\n",
        "%cd /content/text-generation-webui\n",
        "!python server.py --share --cpu-memory 12900 --model /content/text-generation-webui/models/japanese-stablelm-instruct-alpha-7b"
      ]
    }
  ],
  "metadata": {
    "accelerator": "GPU",
    "colab": {
      "provenance": []
    },
    "gpuClass": "standard",
    "kernelspec": {
      "display_name": "Python 3",
      "name": "python3"
    },
    "language_info": {
      "name": "python"
    }
  },
  "nbformat": 4,
  "nbformat_minor": 0
}
