{
  "cells": [
    {
      "cell_type": "markdown",
      "metadata": {
        "id": "view-in-github"
      },
      "source": [
        "[![Open In Colab](https://colab.research.google.com/assets/colab-badge.svg)](https://colab.research.google.com/github/camenduru/japanese-text-generation-webui-colab/blob/main/japanese-elyza-llama2-7b-instruct-gradio.ipynb)"
      ]
    },
    {
      "cell_type": "code",
      "execution_count": null,
      "metadata": {
        "id": "VCFOzsQSHbjM"
      },
      "outputs": [],
      "source": [
        "%cd /content\n",
        "!apt-get -y install -qq aria2\n",
        "!pip install -q xformers==0.0.20 triton==2.0.0 -U\n",
        "!git clone -b dev https://github.com/camenduru/ELYZA-japanese-Llama-2-7b-instruct-demo-hf\n",
        "%cd /content/ELYZA-japanese-Llama-2-7b-instruct-demo-hf\n",
        "!pip install -q -r requirements.txt\n",
        "\n",
        "!aria2c --console-log-level=error -c -x 16 -s 16 -k 1M https://huggingface.co/4bit/ELYZA-japanese-Llama-2-7b-instruct/raw/main/config.json -d /content/model -o config.json\n",
        "!aria2c --console-log-level=error -c -x 16 -s 16 -k 1M https://huggingface.co/4bit/ELYZA-japanese-Llama-2-7b-instruct/raw/main/generation_config.json -d /content/model -o generation_config.json\n",
        "!aria2c --console-log-level=error -c -x 16 -s 16 -k 1M https://huggingface.co/4bit/ELYZA-japanese-Llama-2-7b-instruct/resolve/main/model-00001-of-00002.safetensors -d /content/model -o model-00001-of-00002.safetensors\n",
        "!aria2c --console-log-level=error -c -x 16 -s 16 -k 1M https://huggingface.co/4bit/ELYZA-japanese-Llama-2-7b-instruct/resolve/main/model-00002-of-00002.safetensors -d /content/model -o model-00002-of-00002.safetensors\n",
        "!aria2c --console-log-level=error -c -x 16 -s 16 -k 1M https://huggingface.co/4bit/ELYZA-japanese-Llama-2-7b-instruct/raw/main/model.safetensors.index.json -d /content/model -o model.safetensors.index.json\n",
        "!aria2c --console-log-level=error -c -x 16 -s 16 -k 1M https://huggingface.co/4bit/ELYZA-japanese-Llama-2-7b-instruct/raw/main/special_tokens_map.json -d /content/model -o special_tokens_map.json\n",
        "!aria2c --console-log-level=error -c -x 16 -s 16 -k 1M https://huggingface.co/4bit/ELYZA-japanese-Llama-2-7b-instruct/raw/main/tokenizer.json -d /content/model -o tokenizer.json\n",
        "!aria2c --console-log-level=error -c -x 16 -s 16 -k 1M https://huggingface.co/4bit/ELYZA-japanese-Llama-2-7b-instruct/resolve/main/tokenizer.model -d /content/model -o tokenizer.model\n",
        "!aria2c --console-log-level=error -c -x 16 -s 16 -k 1M https://huggingface.co/4bit/ELYZA-japanese-Llama-2-7b-instruct/raw/main/tokenizer_config.json -d /content/model -o tokenizer_config.json\n",
        "\n",
        "!wget https://huggingface.co/4bit/ELYZA-japanese-Llama-2-7b-instruct/resolve/main/llama_face.png -O /content/ELYZA-japanese-Llama-2-7b-instruct-demo-hf/llama_face.png\n",
        "!wget https://huggingface.co/4bit/ELYZA-japanese-Llama-2-7b-instruct/resolve/main/person_face.png -O /content/ELYZA-japanese-Llama-2-7b-instruct-demo-hf/person_face.png\n",
        "\n",
        "!python app.py"
      ]
    }
  ],
  "metadata": {
    "accelerator": "GPU",
    "colab": {
      "provenance": []
    },
    "gpuClass": "standard",
    "kernelspec": {
      "display_name": "Python 3",
      "name": "python3"
    },
    "language_info": {
      "name": "python"
    }
  },
  "nbformat": 4,
  "nbformat_minor": 0
}
